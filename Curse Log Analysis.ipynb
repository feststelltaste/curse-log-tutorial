{
 "cells": [
  {
   "cell_type": "markdown",
   "metadata": {},
   "source": [
    "# Analysis of the Curse Log"
   ]
  },
  {
   "cell_type": "markdown",
   "metadata": {},
   "source": [
    "## Introduction\n",
    "With this worksheet, you will learn the first steps with Jupyter, Python, pandas and matplotlib using a practical example: We execute an analysis of the futuristic data set \"curse log\" &ndash; a log of time-tracked swearwords events gathered with the microchip implant \"FUTURE 2000\" from several humans.\n",
    "\n",
    "We managed to get the log of uttered curses of some users. We also have some user profile data that we can combine with the curse log to find out, who the cursers are."
   ]
  },
  {
   "cell_type": "markdown",
   "metadata": {},
   "source": [
    "## Tasks\n",
    "* We want to find out\n",
    " * which curses are the most popular\n",
    " * at what hour of the day most curses are made.\n",
    " * which people are in the TOP 10 cursers' list\n",
    " * if men curse more often than woman\n",
    " * the favorite curse for each job\n",
    " \n",
    "As a starting point, we have a log from several users recorded in a file that lists the time stamp, the curse word and the id of the user's profile each curse:\n",
    "\n",
    "```\n",
    "timestamp,curse,profile_id\n",
    "2132-12-31 14:47:43,The A-word,0\n",
    "2132-12-31 13:13:56,The F-word,0\n",
    "2132-12-31 13:03:05,The S-word,0\n",
    "2132-12-31 12:30:34,The F-word,0\n",
    "2132-12-31 12:29:02,The S-word,0\n",
    "```\n",
    "\n",
    "Hint: This data is a data set from the future. But since time machines aren't invented yet, we are working with a generated / synthetic dataset based on a real data set from an other domain.\n",
    "\n",
    "Let's get to know the tools we use!"
   ]
  },
  {
   "cell_type": "markdown",
   "metadata": {},
   "source": [
    "## Jupyter\n",
    "Jupyter offers us code and documentation in executable **cells**.\n",
    "\n",
    "##### Code execution\n",
    "\n",
    "1. select the next cell (mouse click or arrow keys).\n",
    "1. execute the cell with a `Ctrl`+`Enter`. \n",
    "1. move the cell again with `Shift`+`Enter`. What's the difference between the output of results?"
   ]
  },
  {
   "cell_type": "code",
   "execution_count": null,
   "metadata": {},
   "outputs": [],
   "source": [
    "\"Hello World\""
   ]
  },
  {
   "cell_type": "markdown",
   "metadata": {},
   "source": [
    "##### Create new cell\n",
    "1. if it hasn't happened yet, select this cell.\n",
    "1. enter **command mode**, selectable with `ESC` key.\n",
    "1. create a **new cell** after this text with the `b` key. \n",
    "1. change the **cell type** to \"Markdown\" with key `m`.\n",
    "1. switch to **edit mode** with `Enter` *(note the color to the left of the cell, which turns green instead of blue)*.\n",
    "1. write a text, which you then \"execute\" with `Ctrl` + `Enter`."
   ]
  },
  {
   "cell_type": "markdown",
   "metadata": {},
   "source": [
    "This is a text"
   ]
  },
  {
   "cell_type": "markdown",
   "metadata": {},
   "source": [
    "## Python\n",
    "We look at very basic functions:\n",
    "\n",
    "- variable assignments\n",
    "- value range accesses\n",
    "- method calls"
   ]
  },
  {
   "cell_type": "markdown",
   "metadata": {},
   "source": [
    "#### Assign text to a variable\n",
    "1. **assign** the text **value** \"Hello World\" to the **variable** `text` by using the syntax `<variable> = <value>`. \n",
    "1. type the variable `text` in the next line and execute the cell."
   ]
  },
  {
   "cell_type": "code",
   "execution_count": null,
   "metadata": {},
   "outputs": [],
   "source": []
  },
  {
   "cell_type": "markdown",
   "metadata": {},
   "source": [
    "##### Access values\n",
    "1. access the first letter in `text` with `[0]`."
   ]
  },
  {
   "cell_type": "code",
   "execution_count": null,
   "metadata": {},
   "outputs": [],
   "source": []
  },
  {
   "cell_type": "markdown",
   "metadata": {},
   "source": [
    "##### Select last value\n",
    "1. access the last letter in `text` with `[-1]`."
   ]
  },
  {
   "cell_type": "code",
   "execution_count": null,
   "metadata": {},
   "outputs": [],
   "source": []
  },
  {
   "cell_type": "markdown",
   "metadata": {},
   "source": [
    "##### Select value ranges\n",
    "1. access a range of `text` with the **slice** `[2:5]`."
   ]
  },
  {
   "cell_type": "code",
   "execution_count": null,
   "metadata": {},
   "outputs": [],
   "source": []
  },
  {
   "cell_type": "markdown",
   "metadata": {},
   "source": [
    "#### Auto completion\n",
    "1. append a `.` to `text` and look at the functions with the `Tab` key.\n",
    "1. execute the **method** `upper()` (Tip: Type a `u` in the function overview)."
   ]
  },
  {
   "cell_type": "code",
   "execution_count": null,
   "metadata": {},
   "outputs": [],
   "source": []
  },
  {
   "cell_type": "markdown",
   "metadata": {},
   "source": [
    "#### Interactive documentation\n",
    "1. select the `split` function of `text`.\n",
    "1. press `Shift`+`Tab`.\n",
    "1. press `Shift`+`Tab` twice in quick succession.\n",
    "1. press `Shift`+`Tab` four times in quick succession (and then `ESC` to hide) \n",
    "1. split the text in `text` with `split` exactly once (parameter `maxsplit`) apart by using the `l` (\"L\") as separator (parameter `sep`)."
   ]
  },
  {
   "cell_type": "code",
   "execution_count": null,
   "metadata": {},
   "outputs": [],
   "source": []
  },
  {
   "cell_type": "markdown",
   "metadata": {},
   "source": [
    "## Pandas"
   ]
  },
  {
   "cell_type": "markdown",
   "metadata": {},
   "source": [
    "### Import data\n",
    "\n",
    "#### Load a module\n",
    "1. import the module `pandas` with `import <module> as <abbreviation>` as abbreviated `pd`\n",
    "1. in the next line,  attached a `?` to `pd` and execute the cell to get some information about `pd`."
   ]
  },
  {
   "cell_type": "code",
   "execution_count": null,
   "metadata": {},
   "outputs": [],
   "source": []
  },
  {
   "cell_type": "markdown",
   "metadata": {},
   "source": [
    "#### Import file\n",
    "1. use the `read_csv` method to read the data from the file `curse_log.csv` in the directory `dataset`.\n",
    "1. write the result into the variable `log`.\n",
    "1. display the first five entries (= curses) in `log` with the `head()` method."
   ]
  },
  {
   "cell_type": "code",
   "execution_count": null,
   "metadata": {},
   "outputs": [],
   "source": []
  },
  {
   "cell_type": "markdown",
   "metadata": {},
   "source": [
    "#### Getting to know the data\n",
    "1. call `info()` on `log`."
   ]
  },
  {
   "cell_type": "code",
   "execution_count": null,
   "metadata": {},
   "outputs": [],
   "source": []
  },
  {
   "cell_type": "markdown",
   "metadata": {},
   "source": [
    "We see that `log` is \n",
    "* a **DataFrame** that consists of\n",
    " * three columns (so-called **Series**) `timestamp`, `curse` and `profile_id`"
   ]
  },
  {
   "cell_type": "markdown",
   "metadata": {},
   "source": [
    "### Aggregate data\n",
    "#### Top curses\n",
    "1. sum up the number of curses in the column `curse` in `log` with the method `value_counts()`.\n",
    "1. save the result in the variable `top_curses`.\n",
    "1. list the result in `top_curses`.\n",
    "\n",
    "*Note: In this tutorial, we access Series directly with the `.<Series>` notation (e. g. `log.curse`). This works only if the names of the Series are different from the provided functions of a Series. E. g. it doesn't work, when you try to access a Series named `count`, because `count()` is a function of a Series. Here, you have to use the `['<Series name>']` notation (e.g. `log['count']`. When in doubt, always use the `['<Series name>']` notation (but which disables the auto-completion feature)*"
   ]
  },
  {
   "cell_type": "code",
   "execution_count": null,
   "metadata": {},
   "outputs": [],
   "source": []
  },
  {
   "cell_type": "markdown",
   "metadata": {},
   "source": [
    "## matplotlib\n",
    "### Visualization\n",
    "\n",
    "#### Plot diagram\n",
    "1. tell Jupyter with `%matplotlib inline` to display generated graphics directly in the notebook.\n",
    "1. create a diagram of the Series `top_curses` with `plot()`."
   ]
  },
  {
   "cell_type": "code",
   "execution_count": null,
   "metadata": {},
   "outputs": [],
   "source": []
  },
  {
   "cell_type": "markdown",
   "metadata": {},
   "source": [
    "#### Create a bar chart\n",
    "1. call the `bar()` sub-method of `plot` for the data in `log`."
   ]
  },
  {
   "cell_type": "code",
   "execution_count": null,
   "metadata": {},
   "outputs": [],
   "source": []
  },
  {
   "cell_type": "markdown",
   "metadata": {},
   "source": [
    "#### Improve the  output\n",
    "1. add a `;` to the call above and re-execute it. * What has changed? *"
   ]
  },
  {
   "cell_type": "code",
   "execution_count": null,
   "metadata": {},
   "outputs": [],
   "source": []
  },
  {
   "cell_type": "markdown",
   "metadata": {},
   "source": [
    "#### Create a pie chart\n",
    "1. call the `pie()` sub-method of `plot` for the data in `top_curses`."
   ]
  },
  {
   "cell_type": "code",
   "execution_count": null,
   "metadata": {},
   "outputs": [],
   "source": []
  },
  {
   "cell_type": "markdown",
   "metadata": {},
   "source": [
    "#### Create a beautiful pie chart\n",
    "1. create another pie chart, this time directly with `plot()` of the Series `top_cursess` and with the following parameters:  \n",
    " * `kind=\"pie\"`\n",
    " * `figsize=[7,7]`\n",
    " * `title=\"Top curses\"`\n",
    " * `label=\"\"`  \n",
    "\n",
    "Tip: Use auto completion."
   ]
  },
  {
   "cell_type": "code",
   "execution_count": null,
   "metadata": {},
   "outputs": [],
   "source": []
  },
  {
   "cell_type": "markdown",
   "metadata": {},
   "source": [
    "## Time series analysis\n",
    "##### View timestamp column\n",
    "1. display the first five entries of the series `timestamp`."
   ]
  },
  {
   "cell_type": "code",
   "execution_count": null,
   "metadata": {},
   "outputs": [],
   "source": []
  },
  {
   "cell_type": "markdown",
   "metadata": {},
   "source": [
    "#### Data type conversion\n",
    "1. use the pandas function `pd.to_datetime` to convert the column `timestamp` into a real date data type.\n",
    "1. write the result into the new variable `ts` (abbreviation for \"timestamp\").\n",
    "1. output the first five entries."
   ]
  },
  {
   "cell_type": "code",
   "execution_count": null,
   "metadata": {},
   "outputs": [],
   "source": []
  },
  {
   "cell_type": "markdown",
   "metadata": {},
   "source": [
    "#### Assigning data to a Series\n",
    "1. override the values of the `timestamp` Series with the data in `ts`.\n",
    "1. print the first entries."
   ]
  },
  {
   "cell_type": "code",
   "execution_count": null,
   "metadata": {},
   "outputs": [],
   "source": []
  },
  {
   "cell_type": "markdown",
   "metadata": {},
   "source": [
    "#### Working with hourly data\n",
    "1. access the date object `dt` of the Series `timestamp`.\n",
    "1. inspect the hours of the `hour` property of the `dt` object.\n",
    "1. store the hours into the new Series `hour` of the `log` DataFrame.\n",
    "1. print out the first five entries."
   ]
  },
  {
   "cell_type": "code",
   "execution_count": null,
   "metadata": {},
   "outputs": [],
   "source": []
  },
  {
   "cell_type": "markdown",
   "metadata": {},
   "source": [
    "##### Find out favorite cursing times\n",
    "1. sum up the number of curses per each hour.\n",
    " 1. here, switch off the sorting with the parameter `sort=False`.\n",
    "1. save the result in `curses_per_hour`."
   ]
  },
  {
   "cell_type": "code",
   "execution_count": null,
   "metadata": {},
   "outputs": [],
   "source": []
  },
  {
   "cell_type": "markdown",
   "metadata": {},
   "source": [
    "#### Visualize the hourly cursing result\n",
    "1. plot a bar chart of the hourly cursing counts."
   ]
  },
  {
   "cell_type": "code",
   "execution_count": null,
   "metadata": {},
   "outputs": [],
   "source": []
  },
  {
   "cell_type": "markdown",
   "metadata": {},
   "source": [
    "## Merging data sets\n",
    "Now it's time to find out, which users are cursing the most. We have another data set in a CSV file `profiles.csv.gz` with the following content:\n",
    "\n",
    "![](dataset_in_excel.png)\n",
    "\n",
    "The columns contain this information for all FUTURE 2000 users. It includes the unique identification number of a user's profile (matches `profile_id` in the curse log) as well as the name, birth date, sex and current job.\n",
    "\n",
    "We combine this data with our `log` DataFrame to check off the remaining items on our to-do list:\n",
    "\n",
    "Find out\n",
    " * which people are in the TOP 10 cursers' list\n",
    " * if men curse more often than woman\n",
    " * the favorite curse for each job\n",
    "So let's do it!"
   ]
  },
  {
   "cell_type": "markdown",
   "metadata": {},
   "source": [
    "#### Read in CSV file\n",
    "1. use the `read_csv` method of Pandas to read in the file `profiles.csv.gz` into the DataFrame / variable `profiles`.\n",
    "1. display  the first five rows of the DataFrame."
   ]
  },
  {
   "cell_type": "code",
   "execution_count": null,
   "metadata": {},
   "outputs": [],
   "source": []
  },
  {
   "cell_type": "markdown",
   "metadata": {},
   "source": [
    "#### Join datasets\n",
    "1. use the method `join()` on the `log` DataFrame\n",
    " 1. as first argument, put in the DataFrame `profiles`\n",
    " 1. as second argument, add the parameter `on='profile_id'` to join `log`'s `profile_id` column with the id (=index) column of the `profiles` data set.\n",
    "1. store the result into the variable `curse_profiles`.\n",
    "1. display the first entries of `curse_profiles`."
   ]
  },
  {
   "cell_type": "code",
   "execution_count": null,
   "metadata": {},
   "outputs": [],
   "source": []
  },
  {
   "cell_type": "markdown",
   "metadata": {},
   "source": [
    "### TOP 10 cursers\n",
    "#### Find the users with the most uttered curses\n",
    "1. Count the top 10 curses"
   ]
  },
  {
   "cell_type": "code",
   "execution_count": null,
   "metadata": {},
   "outputs": [],
   "source": []
  },
  {
   "cell_type": "markdown",
   "metadata": {},
   "source": [
    "### Cursing genders\n",
    "#### Get the ratio between male to all curses in percent\n",
    "1. select only men (value `'M'`) with the selector notation `<DataFrame>[<DataFrame>.<Series> == <value>]`\n",
    "1. count the number of returned rows of the Series `sex`.\n",
    "1. divide that number by all entries of the Series `sex` of the DataFrame `curse_profiles`."
   ]
  },
  {
   "cell_type": "code",
   "execution_count": null,
   "metadata": {},
   "outputs": [],
   "source": []
  },
  {
   "cell_type": "markdown",
   "metadata": {},
   "source": [
    "### Favorite curse per job (advanced level)\n",
    "#### Grouping data\n",
    "1. group together the `curse_profiles`' data along `job` and `curse` by using `groupby` and the list `['job', 'curse']` as argument.\n",
    "1. count the values for the Series `sex` (or any other left Series).\n",
    "1. store the returned Series into the variable `job_curses`.\n",
    "1. display the first 10 entries of the Series."
   ]
  },
  {
   "cell_type": "code",
   "execution_count": null,
   "metadata": {},
   "outputs": [],
   "source": []
  },
  {
   "cell_type": "markdown",
   "metadata": {},
   "source": [
    "#### Find the maximum per group\n",
    "1. group `job_curses` again along `job`.\n",
    "1. use the `transform` method with the argument `'max'`.\n",
    "1. store the result in `max_per_group`.\n",
    "1. print the first rows of the result."
   ]
  },
  {
   "cell_type": "code",
   "execution_count": null,
   "metadata": {},
   "outputs": [],
   "source": []
  },
  {
   "cell_type": "markdown",
   "metadata": {},
   "source": [
    "#### Filter maximum group values\n",
    "1. filter with a selector the max values per group.\n",
    "1. store the result in `favorite_curses_per_job`.\n",
    "1. print the first rows."
   ]
  },
  {
   "cell_type": "code",
   "execution_count": null,
   "metadata": {},
   "outputs": [],
   "source": []
  },
  {
   "cell_type": "markdown",
   "metadata": {},
   "source": [
    "#### Count favorite curses\n",
    "1. use `reset_index()` on `favorite_curses_per_job` to get rid of the grouping index.\n",
    "1. count the occuring values for the `curse` Series"
   ]
  },
  {
   "cell_type": "code",
   "execution_count": null,
   "metadata": {},
   "outputs": [],
   "source": []
  },
  {
   "cell_type": "markdown",
   "metadata": {},
   "source": [
    "#### Unstack Series\n",
    "1. use `unstack()` on `favorite_curses_per_job`\n",
    "1. store the result in `favorite_curse_words`"
   ]
  },
  {
   "cell_type": "code",
   "execution_count": null,
   "metadata": {},
   "outputs": [],
   "source": []
  },
  {
   "cell_type": "markdown",
   "metadata": {},
   "source": [
    "#### Identify outliers\n",
    "1. Show the jobs in `favorite_curse_words` that have the curse word `'The S-word'` as favorite."
   ]
  },
  {
   "cell_type": "code",
   "execution_count": null,
   "metadata": {},
   "outputs": [],
   "source": []
  },
  {
   "cell_type": "markdown",
   "metadata": {},
   "source": [
    "#### The end\n",
    "If you read this: Well done! You did it!"
   ]
  },
  {
   "cell_type": "markdown",
   "metadata": {},
   "source": [
    "\n",
    "## What's missing\n",
    "You have now learned some basics about pandas. This will get us a long way in our daily work. The other important topics that are still missing are:\n",
    "* reading in complicated, semi-structured data structures\n",
    "* cleansing of poor data\n",
    "* merging different data sources with `merge`\n",
    "* transforming of DataFrames with `pivot_table`.  \n",
    "\n",
    "## Summary\n",
    "I hope that this mini-tutorial will show you the potential of data analysis using Jupyter, Python, pandas and matplotlib!  \n",
    "\n",
    "I am looking forward to your comments and feedback!  \n",
    "\n",
    "   \n",
    "## Contact\n",
    " \n",
    "\n",
    "**Markus Harrer**  \n",
    "Blog: https://www.feststelltaste.de  \n",
    "Mail:  <a href=\"mailto:talk@markusharrer.de\">talk@markusharrer.de</a>    \n",
    "Twitter: [@feststelltaste](https://twitter.com/feststelltaste)  \n",
    "Consulting and training: http://markusharrer.de"
   ]
  }
 ],
 "metadata": {
  "kernelspec": {
   "display_name": "Python 3",
   "language": "python",
   "name": "python3"
  },
  "language_info": {
   "codemirror_mode": {
    "name": "ipython",
    "version": 3
   },
   "file_extension": ".py",
   "mimetype": "text/x-python",
   "name": "python",
   "nbconvert_exporter": "python",
   "pygments_lexer": "ipython3",
   "version": "3.6.0"
  }
 },
 "nbformat": 4,
 "nbformat_minor": 2
}
