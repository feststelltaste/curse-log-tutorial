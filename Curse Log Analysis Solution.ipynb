{
 "cells": [
  {
   "cell_type": "markdown",
   "metadata": {},
   "source": [
    "# Analysis of the Curse Log"
   ]
  },
  {
   "cell_type": "markdown",
   "metadata": {},
   "source": [
    "## Introduction\n",
    "With this worksheet, you will learn the first steps with Jupyter, Python, pandas and matplotlib using a practical example: We execute an analysis of the futuristic data set \"curse log\" &ndash; a log of time-tracked swearwords events gathered with the microchip implant \"FUTURE 2000\" from several humans.\n",
    "\n",
    "We managed to get the log of uttered curses of some users. We also have some user profile data that we can combine with the curse log to find out, who the cursers are."
   ]
  },
  {
   "cell_type": "markdown",
   "metadata": {},
   "source": [
    "## Tasks\n",
    "* We want to find out\n",
    " * which curses are the most popular\n",
    " * at what hour of the day most curses are made.\n",
    " * which people are in the TOP 10 cursers' list\n",
    " * if men curse more often than woman\n",
    " * the favorite curse for each job\n",
    " \n",
    "As a starting point, we have a log from several users recorded in a file that lists the time stamp, the curse word and the id of the user's profile each curse:\n",
    "\n",
    "```\n",
    "timestamp,curse,profile_id\n",
    "2132-12-31 14:47:43,The A-word,0\n",
    "2132-12-31 13:13:56,The F-word,0\n",
    "2132-12-31 13:03:05,The S-word,0\n",
    "2132-12-31 12:30:34,The F-word,0\n",
    "2132-12-31 12:29:02,The S-word,0\n",
    "```\n",
    "\n",
    "Hint: This data is a data set from the future. But since time machines aren't invented yet, we are working with a generated / synthetic dataset based on a real data set from an other domain.\n",
    "\n",
    "Let's get to know the tools we use!"
   ]
  },
  {
   "cell_type": "markdown",
   "metadata": {},
   "source": [
    "## Jupyter\n",
    "Jupyter offers us code and documentation in executable **cells**.\n",
    "\n",
    "##### Code execution\n",
    "\n",
    "1. select the next cell (mouse click or arrow keys).\n",
    "1. execute the cell with a `Ctrl`+`Enter`. \n",
    "1. move the cell again with `Shift`+`Enter`. What's the difference between the output of results?"
   ]
  },
  {
   "cell_type": "code",
   "execution_count": 44,
   "metadata": {},
   "outputs": [
    {
     "data": {
      "text/plain": [
       "'Hello World'"
      ]
     },
     "execution_count": 44,
     "metadata": {},
     "output_type": "execute_result"
    }
   ],
   "source": [
    "\"Hello World\""
   ]
  },
  {
   "cell_type": "markdown",
   "metadata": {},
   "source": [
    "##### Create new cell\n",
    "1. if it hasn't happened yet, select this cell.\n",
    "1. enter **command mode**, selectable with `ESC` key.\n",
    "1. create a **new cell** after this text with the `b` key. \n",
    "1. change the **cell type** to \"Markdown\" with key `m`.\n",
    "1. switch to **edit mode** with `Enter` *(note the color to the left of the cell, which turns green instead of blue)*.\n",
    "1. write a text, which you then \"execute\" with `Ctrl` + `Enter`."
   ]
  },
  {
   "cell_type": "markdown",
   "metadata": {},
   "source": [
    "This is a text"
   ]
  },
  {
   "cell_type": "markdown",
   "metadata": {},
   "source": [
    "## Python\n",
    "We look at very basic functions:\n",
    "\n",
    "- variable assignments\n",
    "- value range accesses\n",
    "- method calls"
   ]
  },
  {
   "cell_type": "markdown",
   "metadata": {},
   "source": [
    "#### Assign text to a variable\n",
    "1. **assign** the text **value** \"Hello World\" to the **variable** `text` by using the syntax `<variable> = <value>`. \n",
    "1. type the variable `text` in the next line and execute the cell."
   ]
  },
  {
   "cell_type": "code",
   "execution_count": 45,
   "metadata": {},
   "outputs": [
    {
     "data": {
      "text/plain": [
       "'Hello World'"
      ]
     },
     "execution_count": 45,
     "metadata": {},
     "output_type": "execute_result"
    }
   ],
   "source": [
    "text = \"Hello World\"\n",
    "text"
   ]
  },
  {
   "cell_type": "markdown",
   "metadata": {},
   "source": [
    "##### Access values\n",
    "1. access the first letter in `text` with `[0]`."
   ]
  },
  {
   "cell_type": "code",
   "execution_count": 46,
   "metadata": {},
   "outputs": [
    {
     "data": {
      "text/plain": [
       "'H'"
      ]
     },
     "execution_count": 46,
     "metadata": {},
     "output_type": "execute_result"
    }
   ],
   "source": [
    "text[0]"
   ]
  },
  {
   "cell_type": "markdown",
   "metadata": {},
   "source": [
    "##### Select last value\n",
    "1. access the last letter in `text` with `[-1]`."
   ]
  },
  {
   "cell_type": "code",
   "execution_count": 47,
   "metadata": {},
   "outputs": [
    {
     "data": {
      "text/plain": [
       "'d'"
      ]
     },
     "execution_count": 47,
     "metadata": {},
     "output_type": "execute_result"
    }
   ],
   "source": [
    "text[-1]"
   ]
  },
  {
   "cell_type": "markdown",
   "metadata": {},
   "source": [
    "##### Select value ranges\n",
    "1. access a range of `text` with the **slice** `[2:5]`."
   ]
  },
  {
   "cell_type": "code",
   "execution_count": 48,
   "metadata": {},
   "outputs": [
    {
     "data": {
      "text/plain": [
       "'ll'"
      ]
     },
     "execution_count": 48,
     "metadata": {},
     "output_type": "execute_result"
    }
   ],
   "source": [
    "text[2:4]"
   ]
  },
  {
   "cell_type": "markdown",
   "metadata": {},
   "source": [
    "#### Auto completion\n",
    "1. append a `.` to `text` and look at the functions with the `Tab` key.\n",
    "1. execute the **method** `upper()` (Tip: Type a `u` in the function overview)."
   ]
  },
  {
   "cell_type": "code",
   "execution_count": 49,
   "metadata": {},
   "outputs": [
    {
     "data": {
      "text/plain": [
       "'HELLO WORLD'"
      ]
     },
     "execution_count": 49,
     "metadata": {},
     "output_type": "execute_result"
    }
   ],
   "source": [
    "text.upper()"
   ]
  },
  {
   "cell_type": "markdown",
   "metadata": {},
   "source": [
    "#### Interactive documentation\n",
    "1. select the `split` function of `text`.\n",
    "1. press `Shift`+`Tab`.\n",
    "1. press `Shift`+`Tab` twice in quick succession.\n",
    "1. press `Shift`+`Tab` four times in quick succession (and then `ESC` to hide) \n",
    "1. split the text in `text` with `split` exactly once (parameter `maxsplit`) apart by using the `l` (\"L\") as separator (parameter `sep`)."
   ]
  },
  {
   "cell_type": "code",
   "execution_count": 50,
   "metadata": {},
   "outputs": [
    {
     "data": {
      "text/plain": [
       "['He', 'lo World']"
      ]
     },
     "execution_count": 50,
     "metadata": {},
     "output_type": "execute_result"
    }
   ],
   "source": [
    "text.split(\"l\",maxsplit=1)"
   ]
  },
  {
   "cell_type": "markdown",
   "metadata": {},
   "source": [
    "## Pandas"
   ]
  },
  {
   "cell_type": "markdown",
   "metadata": {},
   "source": [
    "### Import data\n",
    "\n",
    "#### Load a module\n",
    "1. import the module `pandas` with `import <module> as <abbreviation>` as abbreviated `pd`\n",
    "1. in the next line,  attached a `?` to `pd` and execute the cell to get some information about `pd`."
   ]
  },
  {
   "cell_type": "code",
   "execution_count": 51,
   "metadata": {},
   "outputs": [],
   "source": [
    "import pandas as pd\n",
    "pd?"
   ]
  },
  {
   "cell_type": "markdown",
   "metadata": {},
   "source": [
    "#### Import file\n",
    "1. use the `read_csv` method to read the data from the file `curse_log.csv`.\n",
    "1. write the result into the variable `log`.\n",
    "1. display the first five entries (= curses) in `log` with the `head()` method."
   ]
  },
  {
   "cell_type": "code",
   "execution_count": 52,
   "metadata": {},
   "outputs": [
    {
     "data": {
      "text/html": [
       "<div>\n",
       "<style scoped>\n",
       "    .dataframe tbody tr th:only-of-type {\n",
       "        vertical-align: middle;\n",
       "    }\n",
       "\n",
       "    .dataframe tbody tr th {\n",
       "        vertical-align: top;\n",
       "    }\n",
       "\n",
       "    .dataframe thead th {\n",
       "        text-align: right;\n",
       "    }\n",
       "</style>\n",
       "<table border=\"1\" class=\"dataframe\">\n",
       "  <thead>\n",
       "    <tr style=\"text-align: right;\">\n",
       "      <th></th>\n",
       "      <th>timestamp</th>\n",
       "      <th>curse</th>\n",
       "      <th>profile_id</th>\n",
       "    </tr>\n",
       "  </thead>\n",
       "  <tbody>\n",
       "    <tr>\n",
       "      <th>0</th>\n",
       "      <td>2132-12-31 14:47:43</td>\n",
       "      <td>The A-word</td>\n",
       "      <td>0</td>\n",
       "    </tr>\n",
       "    <tr>\n",
       "      <th>1</th>\n",
       "      <td>2132-12-31 13:13:56</td>\n",
       "      <td>The F-word</td>\n",
       "      <td>0</td>\n",
       "    </tr>\n",
       "    <tr>\n",
       "      <th>2</th>\n",
       "      <td>2132-12-31 13:03:05</td>\n",
       "      <td>The S-word</td>\n",
       "      <td>0</td>\n",
       "    </tr>\n",
       "    <tr>\n",
       "      <th>3</th>\n",
       "      <td>2132-12-31 12:30:34</td>\n",
       "      <td>The F-word</td>\n",
       "      <td>0</td>\n",
       "    </tr>\n",
       "    <tr>\n",
       "      <th>4</th>\n",
       "      <td>2132-12-31 12:29:02</td>\n",
       "      <td>The S-word</td>\n",
       "      <td>0</td>\n",
       "    </tr>\n",
       "  </tbody>\n",
       "</table>\n",
       "</div>"
      ],
      "text/plain": [
       "             timestamp       curse  profile_id\n",
       "0  2132-12-31 14:47:43  The A-word           0\n",
       "1  2132-12-31 13:13:56  The F-word           0\n",
       "2  2132-12-31 13:03:05  The S-word           0\n",
       "3  2132-12-31 12:30:34  The F-word           0\n",
       "4  2132-12-31 12:29:02  The S-word           0"
      ]
     },
     "execution_count": 52,
     "metadata": {},
     "output_type": "execute_result"
    }
   ],
   "source": [
    "log = pd.read_csv(\"dataset/curse_log.gz\")\n",
    "log.head()"
   ]
  },
  {
   "cell_type": "markdown",
   "metadata": {},
   "source": [
    "#### Getting to know the data\n",
    "1. call `info()` on `log`."
   ]
  },
  {
   "cell_type": "code",
   "execution_count": 53,
   "metadata": {},
   "outputs": [
    {
     "name": "stdout",
     "output_type": "stream",
     "text": [
      "<class 'pandas.core.frame.DataFrame'>\n",
      "RangeIndex: 723212 entries, 0 to 723211\n",
      "Data columns (total 3 columns):\n",
      "timestamp     723212 non-null object\n",
      "curse         723212 non-null object\n",
      "profile_id    723212 non-null int64\n",
      "dtypes: int64(1), object(2)\n",
      "memory usage: 16.6+ MB\n"
     ]
    }
   ],
   "source": [
    "log.info()"
   ]
  },
  {
   "cell_type": "markdown",
   "metadata": {},
   "source": [
    "We see that `log` is \n",
    "* a **DataFrame** that consists of\n",
    " * three columns (so-called **Series**) `timestamp`, `curse` and `profile_id`"
   ]
  },
  {
   "cell_type": "markdown",
   "metadata": {},
   "source": [
    "### Aggregate data\n",
    "#### Top curses\n",
    "1. sum up the number of curses in the column `curse` in `log` with the method `value_counts()`.\n",
    "1. save the result in the variable `top_curses`.\n",
    "1. list the result in `top_curses`.\n",
    "\n",
    "*Note: In this tutorial, we access Series directly with the `.<Series>` notation (e. g. `log.curse`). This works only if the names of the Series are different from the provided functions of a Series. E. g. it doesn't work, when you try to access a Series named `count`, because `count()` is a function of a Series. Here, you have to use the `['<Series name>']` notation (e.g. `log['count']`. When in doubt, always use the `['<Series name>']` notation (but which disables the auto-completion feature)*"
   ]
  },
  {
   "cell_type": "code",
   "execution_count": 54,
   "metadata": {},
   "outputs": [
    {
     "data": {
      "text/plain": [
       "The F-word    289389\n",
       "The S-word    202648\n",
       "The A-word    122837\n",
       "The D-word     72415\n",
       "Other          35923\n",
       "Name: curse, dtype: int64"
      ]
     },
     "execution_count": 54,
     "metadata": {},
     "output_type": "execute_result"
    }
   ],
   "source": [
    "top_curses = log.curse.value_counts()\n",
    "top_curses"
   ]
  },
  {
   "cell_type": "markdown",
   "metadata": {},
   "source": [
    "## matplotlib\n",
    "### Visualization\n",
    "\n",
    "#### Plot diagram\n",
    "1. tell Jupyter with `%matplotlib inline` to display generated graphics directly in the notebook.\n",
    "1. create a diagram of the Series `top_curses` with `plot()`."
   ]
  },
  {
   "cell_type": "code",
   "execution_count": 55,
   "metadata": {},
   "outputs": [
    {
     "data": {
      "text/plain": [
       "<matplotlib.axes._subplots.AxesSubplot at 0x1e89c0dff60>"
      ]
     },
     "execution_count": 55,
     "metadata": {},
     "output_type": "execute_result"
    },
    {
     "data": {
      "image/png": "[encoded data removed]",
      "text/plain": [
       "<Figure size 432x288 with 1 Axes>"
      ]
     },
     "metadata": {
      "needs_background": "light"
     },
     "output_type": "display_data"
    }
   ],
   "source": [
    "%matplotlib inline\n",
    "top_curses.plot()"
   ]
  },
  {
   "cell_type": "markdown",
   "metadata": {},
   "source": [
    "#### Create a bar chart\n",
    "1. call the `bar()` sub-method of `plot` for the data in `log`."
   ]
  },
  {
   "cell_type": "code",
   "execution_count": 56,
   "metadata": {},
   "outputs": [
    {
     "data": {
      "text/plain": [
       "<matplotlib.axes._subplots.AxesSubplot at 0x1e8993547b8>"
      ]
     },
     "execution_count": 56,
     "metadata": {},
     "output_type": "execute_result"
    },
    {
     "data": {
      "image/png": "[encoded data removed]",
      "text/plain": [
       "<Figure size 432x288 with 1 Axes>"
      ]
     },
     "metadata": {
      "needs_background": "light"
     },
     "output_type": "display_data"
    }
   ],
   "source": [
    "top_curses.plot.bar()"
   ]
  },
  {
   "cell_type": "markdown",
   "metadata": {},
   "source": [
    "#### Improve the  output\n",
    "1. add a `;` to the call above and re-execute it. * What has changed? *"
   ]
  },
  {
   "cell_type": "code",
   "execution_count": 57,
   "metadata": {},
   "outputs": [
    {
     "data": {
      "image/png": "[encoded data removed]",
      "text/plain": [
       "<Figure size 432x288 with 1 Axes>"
      ]
     },
     "metadata": {
      "needs_background": "light"
     },
     "output_type": "display_data"
    }
   ],
   "source": [
    "top_curses.plot.bar();"
   ]
  },
  {
   "cell_type": "markdown",
   "metadata": {},
   "source": [
    "#### Create a pie chart\n",
    "1. call the `pie()` sub-method of `plot` for the data in `top_curses`."
   ]
  },
  {
   "cell_type": "code",
   "execution_count": 58,
   "metadata": {},
   "outputs": [
    {
     "data": {
      "image/png": "[encoded data removed]",
      "text/plain": [
       "<Figure size 432x288 with 1 Axes>"
      ]
     },
     "metadata": {},
     "output_type": "display_data"
    }
   ],
   "source": [
    "top_curses.plot.pie();"
   ]
  },
  {
   "cell_type": "markdown",
   "metadata": {},
   "source": [
    "#### Create a beautiful pie chart\n",
    "1. create another pie chart, this time directly with `plot()` of the Series `top_cursess` and with the following parameters:  \n",
    " * `kind=\"pie\"`\n",
    " * `figsize=[7,7]`\n",
    " * `title=\"Top curses\"`\n",
    " * `label=\"\"`  \n",
    "\n",
    "Tip: Use auto completion."
   ]
  },
  {
   "cell_type": "code",
   "execution_count": 59,
   "metadata": {},
   "outputs": [
    {
     "data": {
      "image/png": "[encoded data removed]",
      "text/plain": [
       "<Figure size 360x360 with 1 Axes>"
      ]
     },
     "metadata": {},
     "output_type": "display_data"
    }
   ],
   "source": [
    "top_curses.plot(\n",
    "    kind='pie',\n",
    "    title=\"Top curses\",\n",
    "    label=\"\",\n",
    "    figsize=[5,5]);"
   ]
  },
  {
   "cell_type": "markdown",
   "metadata": {},
   "source": [
    "## Time series analysis\n",
    "##### View timestamp column\n",
    "1. display the first five entries of the series `timestamp`."
   ]
  },
  {
   "cell_type": "code",
   "execution_count": 60,
   "metadata": {},
   "outputs": [
    {
     "data": {
      "text/plain": [
       "0    2132-12-31 14:47:43\n",
       "1    2132-12-31 13:13:56\n",
       "2    2132-12-31 13:03:05\n",
       "3    2132-12-31 12:30:34\n",
       "4    2132-12-31 12:29:02\n",
       "Name: timestamp, dtype: object"
      ]
     },
     "execution_count": 60,
     "metadata": {},
     "output_type": "execute_result"
    }
   ],
   "source": [
    "log.timestamp.head()"
   ]
  },
  {
   "cell_type": "markdown",
   "metadata": {},
   "source": [
    "#### Data type conversion\n",
    "1. use the pandas function `pd.to_datetime` to convert the column `timestamp` into a real date data type.\n",
    "1. write the result into the new variable `ts` (abbreviation for \"timestamp\").\n",
    "1. output the first five entries."
   ]
  },
  {
   "cell_type": "code",
   "execution_count": 61,
   "metadata": {},
   "outputs": [
    {
     "data": {
      "text/plain": [
       "0   2132-12-31 14:47:43\n",
       "1   2132-12-31 13:13:56\n",
       "2   2132-12-31 13:03:05\n",
       "3   2132-12-31 12:30:34\n",
       "4   2132-12-31 12:29:02\n",
       "Name: timestamp, dtype: datetime64[ns]"
      ]
     },
     "execution_count": 61,
     "metadata": {},
     "output_type": "execute_result"
    }
   ],
   "source": [
    "ts = pd.to_datetime(log.timestamp)\n",
    "ts.head()"
   ]
  },
  {
   "cell_type": "markdown",
   "metadata": {},
   "source": [
    "#### Assigning data to a Series\n",
    "1. override the values of the `timestamp` Series with the data in `ts`.\n",
    "1. print the first entries."
   ]
  },
  {
   "cell_type": "code",
   "execution_count": 62,
   "metadata": {},
   "outputs": [
    {
     "data": {
      "text/html": [
       "<div>\n",
       "<style scoped>\n",
       "    .dataframe tbody tr th:only-of-type {\n",
       "        vertical-align: middle;\n",
       "    }\n",
       "\n",
       "    .dataframe tbody tr th {\n",
       "        vertical-align: top;\n",
       "    }\n",
       "\n",
       "    .dataframe thead th {\n",
       "        text-align: right;\n",
       "    }\n",
       "</style>\n",
       "<table border=\"1\" class=\"dataframe\">\n",
       "  <thead>\n",
       "    <tr style=\"text-align: right;\">\n",
       "      <th></th>\n",
       "      <th>timestamp</th>\n",
       "      <th>curse</th>\n",
       "      <th>profile_id</th>\n",
       "    </tr>\n",
       "  </thead>\n",
       "  <tbody>\n",
       "    <tr>\n",
       "      <th>0</th>\n",
       "      <td>2132-12-31 14:47:43</td>\n",
       "      <td>The A-word</td>\n",
       "      <td>0</td>\n",
       "    </tr>\n",
       "    <tr>\n",
       "      <th>1</th>\n",
       "      <td>2132-12-31 13:13:56</td>\n",
       "      <td>The F-word</td>\n",
       "      <td>0</td>\n",
       "    </tr>\n",
       "    <tr>\n",
       "      <th>2</th>\n",
       "      <td>2132-12-31 13:03:05</td>\n",
       "      <td>The S-word</td>\n",
       "      <td>0</td>\n",
       "    </tr>\n",
       "    <tr>\n",
       "      <th>3</th>\n",
       "      <td>2132-12-31 12:30:34</td>\n",
       "      <td>The F-word</td>\n",
       "      <td>0</td>\n",
       "    </tr>\n",
       "    <tr>\n",
       "      <th>4</th>\n",
       "      <td>2132-12-31 12:29:02</td>\n",
       "      <td>The S-word</td>\n",
       "      <td>0</td>\n",
       "    </tr>\n",
       "  </tbody>\n",
       "</table>\n",
       "</div>"
      ],
      "text/plain": [
       "            timestamp       curse  profile_id\n",
       "0 2132-12-31 14:47:43  The A-word           0\n",
       "1 2132-12-31 13:13:56  The F-word           0\n",
       "2 2132-12-31 13:03:05  The S-word           0\n",
       "3 2132-12-31 12:30:34  The F-word           0\n",
       "4 2132-12-31 12:29:02  The S-word           0"
      ]
     },
     "execution_count": 62,
     "metadata": {},
     "output_type": "execute_result"
    }
   ],
   "source": [
    "log['timestamp'] = ts\n",
    "log.head()"
   ]
  },
  {
   "cell_type": "markdown",
   "metadata": {},
   "source": [
    "#### Working with hourly data\n",
    "1. access the date object `dt` of the Series `timestamp`.\n",
    "1. inspect the hours of the `hour` property of the `dt` object.\n",
    "1. store the hours into the new Series `hour` of the `log` DataFrame.\n",
    "1. print out the first five entries."
   ]
  },
  {
   "cell_type": "code",
   "execution_count": 63,
   "metadata": {},
   "outputs": [
    {
     "data": {
      "text/html": [
       "<div>\n",
       "<style scoped>\n",
       "    .dataframe tbody tr th:only-of-type {\n",
       "        vertical-align: middle;\n",
       "    }\n",
       "\n",
       "    .dataframe tbody tr th {\n",
       "        vertical-align: top;\n",
       "    }\n",
       "\n",
       "    .dataframe thead th {\n",
       "        text-align: right;\n",
       "    }\n",
       "</style>\n",
       "<table border=\"1\" class=\"dataframe\">\n",
       "  <thead>\n",
       "    <tr style=\"text-align: right;\">\n",
       "      <th></th>\n",
       "      <th>timestamp</th>\n",
       "      <th>curse</th>\n",
       "      <th>profile_id</th>\n",
       "      <th>hour</th>\n",
       "    </tr>\n",
       "  </thead>\n",
       "  <tbody>\n",
       "    <tr>\n",
       "      <th>0</th>\n",
       "      <td>2132-12-31 14:47:43</td>\n",
       "      <td>The A-word</td>\n",
       "      <td>0</td>\n",
       "      <td>14</td>\n",
       "    </tr>\n",
       "    <tr>\n",
       "      <th>1</th>\n",
       "      <td>2132-12-31 13:13:56</td>\n",
       "      <td>The F-word</td>\n",
       "      <td>0</td>\n",
       "      <td>13</td>\n",
       "    </tr>\n",
       "    <tr>\n",
       "      <th>2</th>\n",
       "      <td>2132-12-31 13:03:05</td>\n",
       "      <td>The S-word</td>\n",
       "      <td>0</td>\n",
       "      <td>13</td>\n",
       "    </tr>\n",
       "    <tr>\n",
       "      <th>3</th>\n",
       "      <td>2132-12-31 12:30:34</td>\n",
       "      <td>The F-word</td>\n",
       "      <td>0</td>\n",
       "      <td>12</td>\n",
       "    </tr>\n",
       "    <tr>\n",
       "      <th>4</th>\n",
       "      <td>2132-12-31 12:29:02</td>\n",
       "      <td>The S-word</td>\n",
       "      <td>0</td>\n",
       "      <td>12</td>\n",
       "    </tr>\n",
       "  </tbody>\n",
       "</table>\n",
       "</div>"
      ],
      "text/plain": [
       "            timestamp       curse  profile_id  hour\n",
       "0 2132-12-31 14:47:43  The A-word           0    14\n",
       "1 2132-12-31 13:13:56  The F-word           0    13\n",
       "2 2132-12-31 13:03:05  The S-word           0    13\n",
       "3 2132-12-31 12:30:34  The F-word           0    12\n",
       "4 2132-12-31 12:29:02  The S-word           0    12"
      ]
     },
     "execution_count": 63,
     "metadata": {},
     "output_type": "execute_result"
    }
   ],
   "source": [
    "log['hour'] = log.timestamp.dt.hour\n",
    "log.head()"
   ]
  },
  {
   "cell_type": "markdown",
   "metadata": {},
   "source": [
    "##### Find out favorite cursing times\n",
    "1. sum up the number of curses per each hour.\n",
    " 1. here, switch off the sorting with the parameter `sort=False`.\n",
    "1. save the result in `curses_per_hour`."
   ]
  },
  {
   "cell_type": "code",
   "execution_count": 64,
   "metadata": {},
   "outputs": [
    {
     "data": {
      "text/plain": [
       "0    19533\n",
       "1    15044\n",
       "2    10420\n",
       "3     7000\n",
       "4     6068\n",
       "Name: hour, dtype: int64"
      ]
     },
     "execution_count": 64,
     "metadata": {},
     "output_type": "execute_result"
    }
   ],
   "source": [
    "curses_per_hour = log.hour.value_counts(sort=False)\n",
    "curses_per_hour.head()"
   ]
  },
  {
   "cell_type": "markdown",
   "metadata": {},
   "source": [
    "#### Visualize the hourly cursing result\n",
    "1. plot a bar chart of the hourly cursing counts."
   ]
  },
  {
   "cell_type": "code",
   "execution_count": 65,
   "metadata": {},
   "outputs": [
    {
     "data": {
      "image/png": "[encoded data removed]",
      "text/plain": [
       "<Figure size 432x288 with 1 Axes>"
      ]
     },
     "metadata": {
      "needs_background": "light"
     },
     "output_type": "display_data"
    }
   ],
   "source": [
    "curses_per_hour.plot.bar();"
   ]
  },
  {
   "cell_type": "markdown",
   "metadata": {},
   "source": [
    "## Merging data sets\n",
    "Now it's time to find out, which users are cursing the most. We have another data set in a CSV file `profiles.csv.gz` with the following content:\n",
    "\n",
    "![](dataset_in_excel.png)\n",
    "\n",
    "The columns contain this information for all FUTURE 2000 users. It includes the unique identification number of a user's profile (matches `profile_id` in the curse log) as well as the name, birth date, sex and current job.\n",
    "\n",
    "We combine this data with our `log` DataFrame to check off the remaining items on our to-do list:\n",
    "\n",
    "Find out\n",
    " * which people are in the TOP 10 cursers' list\n",
    " * if men curse more often than woman\n",
    " * the favorite curse for each job\n",
    "So let's do it!"
   ]
  },
  {
   "cell_type": "markdown",
   "metadata": {},
   "source": [
    "#### Read in CSV file\n",
    "1. use the `read_csv` method of Pandas to read in the file `profiles.csv.gz` into the DataFrame / variable `profiles`.\n",
    "1. display  the first five rows of the DataFrame."
   ]
  },
  {
   "cell_type": "code",
   "execution_count": 66,
   "metadata": {},
   "outputs": [
    {
     "data": {
      "text/html": [
       "<div>\n",
       "<style scoped>\n",
       "    .dataframe tbody tr th:only-of-type {\n",
       "        vertical-align: middle;\n",
       "    }\n",
       "\n",
       "    .dataframe tbody tr th {\n",
       "        vertical-align: top;\n",
       "    }\n",
       "\n",
       "    .dataframe thead th {\n",
       "        text-align: right;\n",
       "    }\n",
       "</style>\n",
       "<table border=\"1\" class=\"dataframe\">\n",
       "  <thead>\n",
       "    <tr style=\"text-align: right;\">\n",
       "      <th></th>\n",
       "      <th>name</th>\n",
       "      <th>birthdate</th>\n",
       "      <th>sex</th>\n",
       "      <th>job</th>\n",
       "    </tr>\n",
       "    <tr>\n",
       "      <th>id</th>\n",
       "      <th></th>\n",
       "      <th></th>\n",
       "      <th></th>\n",
       "      <th></th>\n",
       "    </tr>\n",
       "  </thead>\n",
       "  <tbody>\n",
       "    <tr>\n",
       "      <th>0</th>\n",
       "      <td>Theresa Nichols</td>\n",
       "      <td>November 22 2095</td>\n",
       "      <td>F</td>\n",
       "      <td>Brewing technologist</td>\n",
       "    </tr>\n",
       "    <tr>\n",
       "      <th>1</th>\n",
       "      <td>Monica Sanchez</td>\n",
       "      <td>Mai 05 2098</td>\n",
       "      <td>F</td>\n",
       "      <td>Administrator (Civil Service)</td>\n",
       "    </tr>\n",
       "    <tr>\n",
       "      <th>2</th>\n",
       "      <td>Lori Briggs</td>\n",
       "      <td>Juli 06 2082</td>\n",
       "      <td>F</td>\n",
       "      <td>Artist</td>\n",
       "    </tr>\n",
       "    <tr>\n",
       "      <th>3</th>\n",
       "      <td>Karen Marks</td>\n",
       "      <td>Januar 10 2063</td>\n",
       "      <td>F</td>\n",
       "      <td>Teacher (adult education)</td>\n",
       "    </tr>\n",
       "    <tr>\n",
       "      <th>4</th>\n",
       "      <td>Gordon Phillips</td>\n",
       "      <td>November 01 2056</td>\n",
       "      <td>M</td>\n",
       "      <td>Therapist (art)</td>\n",
       "    </tr>\n",
       "  </tbody>\n",
       "</table>\n",
       "</div>"
      ],
      "text/plain": [
       "               name         birthdate sex                            job\n",
       "id                                                                      \n",
       "0   Theresa Nichols  November 22 2095   F           Brewing technologist\n",
       "1    Monica Sanchez       Mai 05 2098   F  Administrator (Civil Service)\n",
       "2       Lori Briggs      Juli 06 2082   F                         Artist\n",
       "3       Karen Marks    Januar 10 2063   F      Teacher (adult education)\n",
       "4   Gordon Phillips  November 01 2056   M                Therapist (art)"
      ]
     },
     "execution_count": 66,
     "metadata": {},
     "output_type": "execute_result"
    }
   ],
   "source": [
    "profiles = pd.read_csv(\"dataset/profiles.csv.gz\", sep=\";\", encoding='latin-1', index_col=0)\n",
    "profiles.head()"
   ]
  },
  {
   "cell_type": "markdown",
   "metadata": {},
   "source": [
    "#### Join datasets\n",
    "1. use the method `join()` on the `log` DataFrame\n",
    " 1. as first argument, put in the DataFrame `profiles`\n",
    " 1. as second argument, add the parameter `on='profile_id'` to join `log`'s `profile_id` column with the id (=index) column of the `profiles` data set.\n",
    "1. store the result into the variable `curse_profiles`.\n",
    "1. display the first entries of `curse_profiles`."
   ]
  },
  {
   "cell_type": "code",
   "execution_count": 67,
   "metadata": {},
   "outputs": [
    {
     "data": {
      "text/html": [
       "<div>\n",
       "<style scoped>\n",
       "    .dataframe tbody tr th:only-of-type {\n",
       "        vertical-align: middle;\n",
       "    }\n",
       "\n",
       "    .dataframe tbody tr th {\n",
       "        vertical-align: top;\n",
       "    }\n",
       "\n",
       "    .dataframe thead th {\n",
       "        text-align: right;\n",
       "    }\n",
       "</style>\n",
       "<table border=\"1\" class=\"dataframe\">\n",
       "  <thead>\n",
       "    <tr style=\"text-align: right;\">\n",
       "      <th></th>\n",
       "      <th>timestamp</th>\n",
       "      <th>curse</th>\n",
       "      <th>profile_id</th>\n",
       "      <th>hour</th>\n",
       "      <th>name</th>\n",
       "      <th>birthdate</th>\n",
       "      <th>sex</th>\n",
       "      <th>job</th>\n",
       "    </tr>\n",
       "  </thead>\n",
       "  <tbody>\n",
       "    <tr>\n",
       "      <th>0</th>\n",
       "      <td>2132-12-31 14:47:43</td>\n",
       "      <td>The A-word</td>\n",
       "      <td>0</td>\n",
       "      <td>14</td>\n",
       "      <td>Theresa Nichols</td>\n",
       "      <td>November 22 2095</td>\n",
       "      <td>F</td>\n",
       "      <td>Brewing technologist</td>\n",
       "    </tr>\n",
       "    <tr>\n",
       "      <th>1</th>\n",
       "      <td>2132-12-31 13:13:56</td>\n",
       "      <td>The F-word</td>\n",
       "      <td>0</td>\n",
       "      <td>13</td>\n",
       "      <td>Theresa Nichols</td>\n",
       "      <td>November 22 2095</td>\n",
       "      <td>F</td>\n",
       "      <td>Brewing technologist</td>\n",
       "    </tr>\n",
       "    <tr>\n",
       "      <th>2</th>\n",
       "      <td>2132-12-31 13:03:05</td>\n",
       "      <td>The S-word</td>\n",
       "      <td>0</td>\n",
       "      <td>13</td>\n",
       "      <td>Theresa Nichols</td>\n",
       "      <td>November 22 2095</td>\n",
       "      <td>F</td>\n",
       "      <td>Brewing technologist</td>\n",
       "    </tr>\n",
       "    <tr>\n",
       "      <th>3</th>\n",
       "      <td>2132-12-31 12:30:34</td>\n",
       "      <td>The F-word</td>\n",
       "      <td>0</td>\n",
       "      <td>12</td>\n",
       "      <td>Theresa Nichols</td>\n",
       "      <td>November 22 2095</td>\n",
       "      <td>F</td>\n",
       "      <td>Brewing technologist</td>\n",
       "    </tr>\n",
       "    <tr>\n",
       "      <th>4</th>\n",
       "      <td>2132-12-31 12:29:02</td>\n",
       "      <td>The S-word</td>\n",
       "      <td>0</td>\n",
       "      <td>12</td>\n",
       "      <td>Theresa Nichols</td>\n",
       "      <td>November 22 2095</td>\n",
       "      <td>F</td>\n",
       "      <td>Brewing technologist</td>\n",
       "    </tr>\n",
       "  </tbody>\n",
       "</table>\n",
       "</div>"
      ],
      "text/plain": [
       "            timestamp       curse  profile_id  hour             name  \\\n",
       "0 2132-12-31 14:47:43  The A-word           0    14  Theresa Nichols   \n",
       "1 2132-12-31 13:13:56  The F-word           0    13  Theresa Nichols   \n",
       "2 2132-12-31 13:03:05  The S-word           0    13  Theresa Nichols   \n",
       "3 2132-12-31 12:30:34  The F-word           0    12  Theresa Nichols   \n",
       "4 2132-12-31 12:29:02  The S-word           0    12  Theresa Nichols   \n",
       "\n",
       "          birthdate sex                   job  \n",
       "0  November 22 2095   F  Brewing technologist  \n",
       "1  November 22 2095   F  Brewing technologist  \n",
       "2  November 22 2095   F  Brewing technologist  \n",
       "3  November 22 2095   F  Brewing technologist  \n",
       "4  November 22 2095   F  Brewing technologist  "
      ]
     },
     "execution_count": 67,
     "metadata": {},
     "output_type": "execute_result"
    }
   ],
   "source": [
    "curse_profiles = log.join(profiles, on='profile_id')\n",
    "curse_profiles.head()"
   ]
  },
  {
   "cell_type": "markdown",
   "metadata": {},
   "source": [
    "### TOP 10 cursers\n",
    "#### Find the users with the most uttered curses\n",
    "1. Count the top 10 curses"
   ]
  },
  {
   "cell_type": "code",
   "execution_count": 68,
   "metadata": {},
   "outputs": [
    {
     "data": {
      "text/plain": [
       "Theresa Nichols       24259\n",
       "Henry Alvarez          9563\n",
       "Nicole Weiss           6917\n",
       "William Johnson        6653\n",
       "Stephanie Sullivan     6293\n",
       "Deborah Stephenson     6064\n",
       "Jerry Reynolds         5942\n",
       "Pamela Taylor          5463\n",
       "Jason Orr              5384\n",
       "Ann Gibson             4687\n",
       "Name: name, dtype: int64"
      ]
     },
     "execution_count": 68,
     "metadata": {},
     "output_type": "execute_result"
    }
   ],
   "source": [
    "curse_profiles.name.value_counts().head(10)"
   ]
  },
  {
   "cell_type": "markdown",
   "metadata": {},
   "source": [
    "### Cursing genders\n",
    "#### Get the ratio between male to all curses in percent\n",
    "1. select only men (value `'M'`) with the selector notation `<DataFrame>[<DataFrame>.<Series> == <value>]`\n",
    "1. count the number of returned rows of the Series `sex`.\n",
    "1. divide that number by all entries of the Series `sex` of the DataFrame `curse_profiles`."
   ]
  },
  {
   "cell_type": "code",
   "execution_count": 69,
   "metadata": {},
   "outputs": [
    {
     "data": {
      "text/plain": [
       "0.4829593535505495"
      ]
     },
     "execution_count": 69,
     "metadata": {},
     "output_type": "execute_result"
    }
   ],
   "source": [
    "curse_profiles[curse_profiles.sex == 'M'].sex.count() / curse_profiles.sex.count()"
   ]
  },
  {
   "cell_type": "markdown",
   "metadata": {},
   "source": [
    "### Favorite curse per job (advanced level)\n",
    "#### Grouping data\n",
    "1. group together the `curse_profiles`' data along `job` and `curse` by using `groupby` and the list `['job', 'curse']` as argument.\n",
    "1. count the values for the Series `sex` (or any other left Series).\n",
    "1. store the returned Series into the variable `job_curses`.\n",
    "1. display the first 10 entries of the Series."
   ]
  },
  {
   "cell_type": "code",
   "execution_count": 70,
   "metadata": {},
   "outputs": [
    {
     "data": {
      "text/plain": [
       "job                    curse     \n",
       "Academic librarian     Other          39\n",
       "                       The A-word    107\n",
       "                       The D-word     67\n",
       "                       The F-word    284\n",
       "                       The S-word    194\n",
       "Accommodation manager  Other          21\n",
       "                       The A-word     54\n",
       "                       The D-word     39\n",
       "                       The F-word    133\n",
       "                       The S-word     89\n",
       "Name: sex, dtype: int64"
      ]
     },
     "execution_count": 70,
     "metadata": {},
     "output_type": "execute_result"
    }
   ],
   "source": [
    "job_curses = curse_profiles.groupby(['job', 'curse']).sex.count()\n",
    "job_curses.head(10)"
   ]
  },
  {
   "cell_type": "markdown",
   "metadata": {},
   "source": [
    "#### Find the maximum per group\n",
    "1. group `job_curses` again along `job`.\n",
    "1. use the `transform` method with the argument `'max'`.\n",
    "1. store the result in `max_per_group`.\n",
    "1. print the first rows of the result."
   ]
  },
  {
   "cell_type": "code",
   "execution_count": 71,
   "metadata": {},
   "outputs": [
    {
     "data": {
      "text/plain": [
       "job                 curse     \n",
       "Academic librarian  Other         284\n",
       "                    The A-word    284\n",
       "                    The D-word    284\n",
       "                    The F-word    284\n",
       "                    The S-word    284\n",
       "Name: sex, dtype: int64"
      ]
     },
     "execution_count": 71,
     "metadata": {},
     "output_type": "execute_result"
    }
   ],
   "source": [
    "max_per_job = job_curses.groupby('job').transform('max')\n",
    "max_per_job.head()"
   ]
  },
  {
   "cell_type": "code",
   "execution_count": 72,
   "metadata": {},
   "outputs": [
    {
     "data": {
      "text/plain": [
       "job                               curse     \n",
       "Brewing technologist              The F-word    10143\n",
       "                                  Other         10143\n",
       "                                  The S-word    10143\n",
       "                                  The D-word    10143\n",
       "                                  The A-word    10143\n",
       "Futures trader                    The S-word     3952\n",
       "                                  Other          3952\n",
       "                                  The F-word     3952\n",
       "                                  The D-word     3952\n",
       "                                  The A-word     3952\n",
       "Scientist (physiological)         The A-word     3462\n",
       "                                  The S-word     3462\n",
       "                                  The F-word     3462\n",
       "                                  The D-word     3462\n",
       "                                  Other          3462\n",
       "Biomedical scientist              The D-word     3213\n",
       "                                  The S-word     3213\n",
       "                                  The A-word     3213\n",
       "                                  Other          3213\n",
       "                                  The F-word     3213\n",
       "Hotel manager                     The S-word     3088\n",
       "                                  The F-word     3088\n",
       "                                  The A-word     3088\n",
       "                                  Other          3088\n",
       "                                  The D-word     3088\n",
       "Orthoptist                        Other          3034\n",
       "                                  The D-word     3034\n",
       "                                  The S-word     3034\n",
       "                                  The F-word     3034\n",
       "                                  The A-word     3034\n",
       "                                                ...  \n",
       "Psychotherapist (child)           The F-word       39\n",
       "                                  Other            39\n",
       "                                  The A-word       39\n",
       "                                  The D-word       39\n",
       "                                  The S-word       39\n",
       "Engineer (structural)             The A-word       35\n",
       "                                  Other            35\n",
       "Psychotherapist (dance movement)  The S-word       35\n",
       "                                  The F-word       35\n",
       "                                  The D-word       35\n",
       "                                  The A-word       35\n",
       "                                  Other            35\n",
       "Engineer (structural)             The S-word       35\n",
       "                                  The F-word       35\n",
       "                                  The D-word       35\n",
       "Podiatrist                        The F-word       29\n",
       "                                  The D-word       29\n",
       "                                  The S-word       29\n",
       "                                  Other            29\n",
       "                                  The A-word       29\n",
       "Radio broadcast assistant         Other            27\n",
       "                                  The A-word       27\n",
       "                                  The D-word       27\n",
       "                                  The F-word       27\n",
       "                                  The S-word       27\n",
       "Clinical psychologist             The F-word       26\n",
       "                                  Other            26\n",
       "                                  The A-word       26\n",
       "                                  The D-word       26\n",
       "                                  The S-word       26\n",
       "Name: sex, Length: 3195, dtype: int64"
      ]
     },
     "execution_count": 72,
     "metadata": {},
     "output_type": "execute_result"
    }
   ],
   "source": [
    "max_per_job.sort_values(ascending=False)"
   ]
  },
  {
   "cell_type": "markdown",
   "metadata": {},
   "source": [
    "#### Filter maximum group values\n",
    "1. filter with a selector the max values per group.\n",
    "1. store the result in `favorite_curses_per_job`.\n",
    "1. print the first rows."
   ]
  },
  {
   "cell_type": "code",
   "execution_count": 73,
   "metadata": {},
   "outputs": [
    {
     "data": {
      "text/plain": [
       "job                                    curse     \n",
       "Academic librarian                     The F-word    284\n",
       "Accommodation manager                  The F-word    133\n",
       "Accountant (chartered certified)       The F-word    264\n",
       "Accountant (chartered management)      The F-word    166\n",
       "Accountant (chartered public finance)  The F-word    210\n",
       "Name: sex, dtype: int64"
      ]
     },
     "execution_count": 73,
     "metadata": {},
     "output_type": "execute_result"
    }
   ],
   "source": [
    "favorite_curses_per_job = job_curses[job_curses == max_per_job]\n",
    "favorite_curses_per_job.head()"
   ]
  },
  {
   "cell_type": "markdown",
   "metadata": {},
   "source": [
    "#### Count favorite curses\n",
    "1. use `reset_index()` on `favorite_curses_per_job` to get rid of the grouping index.\n",
    "1. count the occuring values for the `curse` Series"
   ]
  },
  {
   "cell_type": "code",
   "execution_count": 74,
   "metadata": {},
   "outputs": [
    {
     "data": {
      "text/plain": [
       "The F-word    637\n",
       "The S-word      3\n",
       "Name: curse, dtype: int64"
      ]
     },
     "execution_count": 74,
     "metadata": {},
     "output_type": "execute_result"
    }
   ],
   "source": [
    "favorite_curses_per_job.reset_index().curse.value_counts()"
   ]
  },
  {
   "cell_type": "markdown",
   "metadata": {},
   "source": [
    "#### Unstack Series\n",
    "1. use `unstack()` on `favorite_curses_per_job`\n",
    "1. store the result in `favorite_curse_words`"
   ]
  },
  {
   "cell_type": "code",
   "execution_count": 75,
   "metadata": {},
   "outputs": [
    {
     "data": {
      "text/html": [
       "<div>\n",
       "<style scoped>\n",
       "    .dataframe tbody tr th:only-of-type {\n",
       "        vertical-align: middle;\n",
       "    }\n",
       "\n",
       "    .dataframe tbody tr th {\n",
       "        vertical-align: top;\n",
       "    }\n",
       "\n",
       "    .dataframe thead th {\n",
       "        text-align: right;\n",
       "    }\n",
       "</style>\n",
       "<table border=\"1\" class=\"dataframe\">\n",
       "  <thead>\n",
       "    <tr style=\"text-align: right;\">\n",
       "      <th>curse</th>\n",
       "      <th>The F-word</th>\n",
       "      <th>The S-word</th>\n",
       "    </tr>\n",
       "    <tr>\n",
       "      <th>job</th>\n",
       "      <th></th>\n",
       "      <th></th>\n",
       "    </tr>\n",
       "  </thead>\n",
       "  <tbody>\n",
       "    <tr>\n",
       "      <th>Academic librarian</th>\n",
       "      <td>284.0</td>\n",
       "      <td>NaN</td>\n",
       "    </tr>\n",
       "    <tr>\n",
       "      <th>Accommodation manager</th>\n",
       "      <td>133.0</td>\n",
       "      <td>NaN</td>\n",
       "    </tr>\n",
       "    <tr>\n",
       "      <th>Accountant (chartered certified)</th>\n",
       "      <td>264.0</td>\n",
       "      <td>NaN</td>\n",
       "    </tr>\n",
       "    <tr>\n",
       "      <th>Accountant (chartered management)</th>\n",
       "      <td>166.0</td>\n",
       "      <td>NaN</td>\n",
       "    </tr>\n",
       "    <tr>\n",
       "      <th>Accountant (chartered public finance)</th>\n",
       "      <td>210.0</td>\n",
       "      <td>NaN</td>\n",
       "    </tr>\n",
       "  </tbody>\n",
       "</table>\n",
       "</div>"
      ],
      "text/plain": [
       "curse                                  The F-word  The S-word\n",
       "job                                                          \n",
       "Academic librarian                          284.0         NaN\n",
       "Accommodation manager                       133.0         NaN\n",
       "Accountant (chartered certified)            264.0         NaN\n",
       "Accountant (chartered management)           166.0         NaN\n",
       "Accountant (chartered public finance)       210.0         NaN"
      ]
     },
     "execution_count": 75,
     "metadata": {},
     "output_type": "execute_result"
    }
   ],
   "source": [
    "favorite_curse_words = favorite_curses_per_job.unstack()\n",
    "favorite_curse_words.head()"
   ]
  },
  {
   "cell_type": "markdown",
   "metadata": {},
   "source": [
    "#### Identify outliers\n",
    "1. Show the jobs in `favorite_curse_words` that have the curse word `'The S-word'` as favorite."
   ]
  },
  {
   "cell_type": "code",
   "execution_count": 76,
   "metadata": {},
   "outputs": [
    {
     "data": {
      "text/html": [
       "<div>\n",
       "<style scoped>\n",
       "    .dataframe tbody tr th:only-of-type {\n",
       "        vertical-align: middle;\n",
       "    }\n",
       "\n",
       "    .dataframe tbody tr th {\n",
       "        vertical-align: top;\n",
       "    }\n",
       "\n",
       "    .dataframe thead th {\n",
       "        text-align: right;\n",
       "    }\n",
       "</style>\n",
       "<table border=\"1\" class=\"dataframe\">\n",
       "  <thead>\n",
       "    <tr style=\"text-align: right;\">\n",
       "      <th>curse</th>\n",
       "      <th>The F-word</th>\n",
       "      <th>The S-word</th>\n",
       "    </tr>\n",
       "    <tr>\n",
       "      <th>job</th>\n",
       "      <th></th>\n",
       "      <th></th>\n",
       "    </tr>\n",
       "  </thead>\n",
       "  <tbody>\n",
       "    <tr>\n",
       "      <th>Cartographer</th>\n",
       "      <td>45.0</td>\n",
       "      <td>45.0</td>\n",
       "    </tr>\n",
       "    <tr>\n",
       "      <th>Podiatrist</th>\n",
       "      <td>NaN</td>\n",
       "      <td>29.0</td>\n",
       "    </tr>\n",
       "    <tr>\n",
       "      <th>Speech and language therapist</th>\n",
       "      <td>NaN</td>\n",
       "      <td>51.0</td>\n",
       "    </tr>\n",
       "  </tbody>\n",
       "</table>\n",
       "</div>"
      ],
      "text/plain": [
       "curse                          The F-word  The S-word\n",
       "job                                                  \n",
       "Cartographer                         45.0        45.0\n",
       "Podiatrist                            NaN        29.0\n",
       "Speech and language therapist         NaN        51.0"
      ]
     },
     "execution_count": 76,
     "metadata": {},
     "output_type": "execute_result"
    }
   ],
   "source": [
    "favorite_curse_words[~favorite_curse_words['The S-word'].isnull()]"
   ]
  },
  {
   "cell_type": "markdown",
   "metadata": {},
   "source": [
    "#### The end\n",
    "If you read this: Well done! You did it!"
   ]
  },
  {
   "cell_type": "markdown",
   "metadata": {},
   "source": [
    "\n",
    "## What's missing\n",
    "You have now learned some basics about pandas. This will get us a long way in our daily work. The other important topics that are still missing are:\n",
    "* reading in complicated, semi-structured data structures\n",
    "* cleansing of poor data\n",
    "* merging different data sources with `merge`\n",
    "* transforming of DataFrames with `pivot_table`.  \n",
    "\n",
    "## Summary\n",
    "I hope that this mini-tutorial will show you the potential of data analysis using Jupyter, Python, pandas and matplotlib!  \n",
    "\n",
    "I am looking forward to your comments and feedback!  \n",
    "\n",
    "   \n",
    "## Contact\n",
    " \n",
    "\n",
    "**Markus Harrer**  \n",
    "Blog: https://www.feststelltaste.de  \n",
    "Mail:  <a href=\"mailto:talk@markusharrer.de\">talk@markusharrer.de</a>    \n",
    "Twitter: [@feststelltaste](https://twitter.com/feststelltaste)  \n",
    "Consulting and training: http://markusharrer.de"
   ]
  }
 ],
 "metadata": {
  "kernelspec": {
   "display_name": "Python 3",
   "language": "python",
   "name": "python3"
  },
  "language_info": {
   "codemirror_mode": {
    "name": "ipython",
    "version": 3
   },
   "file_extension": ".py",
   "mimetype": "text/x-python",
   "name": "python",
   "nbconvert_exporter": "python",
   "pygments_lexer": "ipython3",
   "version": "3.6.0"
  }
 },
 "nbformat": 4,
 "nbformat_minor": 2
}
